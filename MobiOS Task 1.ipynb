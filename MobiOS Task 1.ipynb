{
 "cells": [
  {
   "cell_type": "code",
   "execution_count": null,
   "metadata": {
    "scrolled": true
   },
   "outputs": [],
   "source": [
    "import requests\n",
    "import pandas as pd\n",
    "import json\n",
    "from bs4 import BeautifulSoup\n",
    "from flask import Flask, request\n",
    "from flask_restful import Api, Resource, reqparse\n",
    "\n",
    "app = Flask(__name__)\n",
    "api = Api(app)\n",
    "\n",
    "class Admin(Resource): #objects of this class will be supplied for each request\n",
    "\n",
    "    def post(self):\n",
    "        \n",
    "        data = request.get_json() #get data from request\n",
    "        url = data['url']\n",
    "        \n",
    "        reqs = requests.get(url)\n",
    "        soup = BeautifulSoup(reqs.text, 'lxml') #load the requested url to bs4\n",
    "\n",
    "        headings=[]\n",
    "        contents=[]\n",
    "        temp = []\n",
    "        count=0\n",
    "        \n",
    "        headings.append(\"Drug name is:\") \n",
    "        contents.append(soup.find(\"h1\").text) #extracting the drug name\n",
    "\n",
    "        for heading in soup.find_all( [\"h2\",\"p\"]): #loop will go through every h2 and p tags\n",
    "            if(heading.name == \"h2\"): #this condition will executes if it finds a h2 tag\n",
    "                count+=1\n",
    "                if (count == 11): #after gettings the main headngs stop the loop\n",
    "                    break\n",
    "                headings.append(heading.text) #add the founded H2 heading to the list\n",
    "                if(temp != []):\n",
    "                    contents.append(temp) #add the previous founded p tags within the h2 tag to contents \n",
    "                temp = [] # reset the temp value to incluce new p tags\n",
    "\n",
    "            if(heading.name == \"p\"): \n",
    "                temp.append(heading.text) #include the p tags founded to the content list\n",
    "\n",
    "        contents.pop(1) #remove the founded description without heading\n",
    "        headings.pop(10) # remove the heading founded after getting all the P tags\n",
    "\n",
    "        df = pd.DataFrame({'subheadings':headings,'content':contents}) #add lists to the pandas data frame\n",
    "        result = df.to_json(contents[0]+\".json\",orient=\"records\") #print the content to a json file containing the medicine name\n",
    "        result = df.to_json(orient=\"records\")\n",
    "        parsed = json.loads(result)\n",
    "        json.dumps(parsed) #printing the results into jupiter view\n",
    "        \n",
    "        return parsed, 200 #returning the data to the relevent request with the request code 200\n",
    "\n",
    "# Add URL endpoints\n",
    "api.add_resource(Admin, '/url') #adding the url path to the server\n",
    "\n",
    "if __name__ == '__main__':\n",
    "    app.run()"
   ]
  },
  {
   "cell_type": "code",
   "execution_count": null,
   "metadata": {},
   "outputs": [],
   "source": []
  }
 ],
 "metadata": {
  "kernelspec": {
   "display_name": "Python 3",
   "language": "python",
   "name": "python3"
  },
  "language_info": {
   "codemirror_mode": {
    "name": "ipython",
    "version": 3
   },
   "file_extension": ".py",
   "mimetype": "text/x-python",
   "name": "python",
   "nbconvert_exporter": "python",
   "pygments_lexer": "ipython3",
   "version": "3.8.5"
  }
 },
 "nbformat": 4,
 "nbformat_minor": 4
}
