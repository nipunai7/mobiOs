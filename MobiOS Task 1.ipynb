{
 "cells": [
  {
   "cell_type": "code",
   "execution_count": null,
   "metadata": {
    "scrolled": true
   },
   "outputs": [
    {
     "name": "stdout",
     "output_type": "stream",
     "text": [
      " * Serving Flask app \"__main__\" (lazy loading)\n",
      " * Environment: production\n",
      "   WARNING: This is a development server. Do not use it in a production deployment.\n",
      "   Use a production WSGI server instead.\n",
      " * Debug mode: off\n"
     ]
    },
    {
     "name": "stderr",
     "output_type": "stream",
     "text": [
      " * Running on http://127.0.0.1:5000/ (Press CTRL+C to quit)\n",
      "127.0.0.1 - - [04/Aug/2021 16:52:04] \"\u001b[37mPOST /url HTTP/1.1\u001b[0m\" 200 -\n",
      "127.0.0.1 - - [04/Aug/2021 16:52:59] \"\u001b[37mPOST /url HTTP/1.1\u001b[0m\" 200 -\n"
     ]
    }
   ],
   "source": [
    "import requests\n",
    "import pandas as pd\n",
    "import json\n",
    "from bs4 import BeautifulSoup\n",
    "from flask import Flask, request\n",
    "from flask_restful import Api, Resource, reqparse\n",
    "\n",
    "app = Flask(__name__)\n",
    "api = Api(app)\n",
    "\n",
    "class Admin(Resource):\n",
    "\n",
    "    def post(self):\n",
    "        \n",
    "        data = request.get_json() #get data from request\n",
    "        url = data['url']\n",
    "        \n",
    "        reqs = requests.get(url)\n",
    "        soup = BeautifulSoup(reqs.text, 'lxml') #load the requested url to bs4\n",
    "\n",
    "        headings=[]\n",
    "        contents=[]\n",
    "        temp = []\n",
    "        count=0\n",
    "        \n",
    "        headings.append(\"Drug name is:\") \n",
    "        contents.append(soup.find(\"h1\").text) #extracting the drug name\n",
    "\n",
    "        for heading in soup.find_all( [\"h2\",\"p\"]): #loop will go through every h2 and p tags\n",
    "            if(heading.name == \"h2\"): #this condition will executes if it finds a h2 tag\n",
    "                count+=1\n",
    "                if (count == 11):\n",
    "                    break\n",
    "                headings.append(heading.text)\n",
    "                if(temp != []):\n",
    "                    contents.append(temp)\n",
    "                temp = []\n",
    "\n",
    "            if(heading.name == \"p\"): \n",
    "                temp.append(heading.text)\n",
    "\n",
    "        contents.pop(1)\n",
    "        headings.pop(10)\n",
    "\n",
    "        df = pd.DataFrame({'subheadings':headings,'content':contents})\n",
    "        result = df.to_json(contents[0]+\".json\",orient=\"records\")\n",
    "        result = df.to_json(orient=\"records\")\n",
    "        parsed = json.loads(result)\n",
    "        json.dumps(parsed)\n",
    "        \n",
    "        return parsed, 200\n",
    "\n",
    "# Add URL endpoints\n",
    "api.add_resource(Admin, '/url')\n",
    "\n",
    "if __name__ == '__main__':\n",
    "    app.run()"
   ]
  },
  {
   "cell_type": "code",
   "execution_count": null,
   "metadata": {},
   "outputs": [],
   "source": []
  }
 ],
 "metadata": {
  "kernelspec": {
   "display_name": "Python 3",
   "language": "python",
   "name": "python3"
  },
  "language_info": {
   "codemirror_mode": {
    "name": "ipython",
    "version": 3
   },
   "file_extension": ".py",
   "mimetype": "text/x-python",
   "name": "python",
   "nbconvert_exporter": "python",
   "pygments_lexer": "ipython3",
   "version": "3.8.5"
  }
 },
 "nbformat": 4,
 "nbformat_minor": 4
}
