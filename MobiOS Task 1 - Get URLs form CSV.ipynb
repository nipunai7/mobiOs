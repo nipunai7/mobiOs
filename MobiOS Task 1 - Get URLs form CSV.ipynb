{
 "cells": [
  {
   "cell_type": "code",
   "execution_count": 19,
   "metadata": {
    "scrolled": true
   },
   "outputs": [],
   "source": [
    "import requests\n",
    "import pandas as pd\n",
    "import json\n",
    "from bs4 import BeautifulSoup\n",
    "from flask import Flask, request\n",
    "from flask_restful import Api, Resource, reqparse\n",
    "\n",
    "def saveData(url):\n",
    "    \n",
    "    reqs = requests.get(url)\n",
    "    soup = BeautifulSoup(reqs.text, 'lxml') #load the requested url to bs4\n",
    "\n",
    "    headings=[]\n",
    "    contents=[]\n",
    "    lists=[]\n",
    "    tempP = []\n",
    "    count=0\n",
    "    nested = 0\n",
    "\n",
    "    headings.append(\"Drug name is:\") \n",
    "    contents.append(soup.find(\"h1\").text) #extracting the drug name\n",
    "\n",
    "    for heading in soup.find_all( [\"h2\",\"p\",\"li\"]): #loop will go through every h2 and p tags\n",
    "        if(heading.name == \"h2\"): #this condition will executes if it finds a h2 tag\n",
    "            count+=1\n",
    "            if (count == 11): #after gettings the main headngs stop the loop\n",
    "                break\n",
    "            headings.append(heading.text) #add the founded H2 heading to the list\n",
    "            if(tempP != []):\n",
    "                contents.append(tempP) #add the previous founded p tags within the h2 tag to contents \n",
    "            tempP = [] # reset the temp value to incluce new p tags\n",
    "\n",
    "        if (heading.name == \"li\"): #detecing a list item\n",
    "            nested = 1\n",
    "            if(count == 0 or count == 4): #skipping menu and ads\n",
    "                nested = 0\n",
    "\n",
    "        if(nested==1): #checking if the next p tag should be nested or not\n",
    "            if (heading.name == \"p\"):\n",
    "                lists.append(heading.text) #adding the p tag in li to a list\n",
    "                nested = 0 #resetting the nested check to 0\n",
    "        else:\n",
    "            if(lists != []): #once all p tags in li are deteced then added to lists. This checks for the value availability of lists\n",
    "                tempP.append(lists) #adding the nested p tags to a single content value\n",
    "                lists = [] #resetting the lists \n",
    "\n",
    "            if(heading.name == \"p\"):\n",
    "                tempP.append(heading.text) #adding normal p tags directly to tempP list\n",
    "\n",
    "    contents.pop(1) #remove the founded description without heading\n",
    "    headings.pop(10) # remove the heading founded after getting all the P tags\n",
    "\n",
    "    df = pd.DataFrame({'subheadings':headings,'content':contents}) #add lists to the pandas data frame\n",
    "    result = df.to_json(contents[0]+\".json\",orient=\"records\") #print the content to a json file containing the medicine name\n",
    "    result = df.to_json(orient=\"records\")\n",
    "    parsed = json.loads(result)\n",
    "    json.dumps(parsed) #printing the results into jupiter view\n",
    "    return parsed\n",
    "\n",
    "def readCSV(csv):\n",
    "    \n",
    "    urls = pd.read_csv(csv)\n",
    "    drugs = []\n",
    "\n",
    "    for url in urls['URLs']: #read CSV line by line\n",
    "        print(url)\n",
    "        drugs.append(saveData(url))"
   ]
  },
  {
   "cell_type": "code",
   "execution_count": 20,
   "metadata": {},
   "outputs": [
    {
     "name": "stdout",
     "output_type": "stream",
     "text": [
      "https://www.drugs.com/amoxicillin_clavulanate.html\n",
      "https://www.drugs.com/abilify.html\n",
      "https://www.drugs.com/mtm/abilify-maintena-injection.html\n",
      "https://www.drugs.com/actos.html\n"
     ]
    }
   ],
   "source": [
    "readCSV('data.csv')"
   ]
  },
  {
   "cell_type": "code",
   "execution_count": null,
   "metadata": {},
   "outputs": [],
   "source": []
  }
 ],
 "metadata": {
  "kernelspec": {
   "display_name": "Python 3",
   "language": "python",
   "name": "python3"
  },
  "language_info": {
   "codemirror_mode": {
    "name": "ipython",
    "version": 3
   },
   "file_extension": ".py",
   "mimetype": "text/x-python",
   "name": "python",
   "nbconvert_exporter": "python",
   "pygments_lexer": "ipython3",
   "version": "3.8.5"
  }
 },
 "nbformat": 4,
 "nbformat_minor": 4
}
